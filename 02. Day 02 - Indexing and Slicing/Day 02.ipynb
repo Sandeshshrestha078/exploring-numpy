{
 "cells": [
  {
   "cell_type": "code",
   "execution_count": null,
   "id": "22c8a1ba-f298-4e36-8c6e-78673034b6ea",
   "metadata": {},
   "outputs": [],
   "source": [
    "import numpy as np"
   ]
  },
  {
   "cell_type": "markdown",
   "id": "0927654b-9b38-4105-aaab-62bfde4fa7ca",
   "metadata": {},
   "source": [
    "## Indexing and slicing of 1-D Array"
   ]
  },
  {
   "cell_type": "code",
   "execution_count": null,
   "id": "3c1e539f-da1f-4288-bd7d-0213ecd30c97",
   "metadata": {},
   "outputs": [],
   "source": [
    "# get the sceond element from the array\n",
    "arr1 = np.array([20,23,24,53,23,53,28])\n",
    "print(arr1[1])"
   ]
  },
  {
   "cell_type": "code",
   "execution_count": null,
   "id": "46063b0d-788a-4e73-ae96-632238e1f862",
   "metadata": {},
   "outputs": [],
   "source": [
    "# negative indexing\n",
    "print(arr1[-1])\n",
    "print(arr1[-2])"
   ]
  },
  {
   "cell_type": "markdown",
   "id": "a8bdc721-7d71-430d-b73b-eebf3a0e32c8",
   "metadata": {},
   "source": [
    "### Slicing arrays [start:end:step]"
   ]
  },
  {
   "cell_type": "code",
   "execution_count": null,
   "id": "7b651594-473c-419f-8f16-b4fe0490de07",
   "metadata": {},
   "outputs": [],
   "source": [
    "arr1"
   ]
  },
  {
   "cell_type": "code",
   "execution_count": null,
   "id": "788efef8-0d8d-4822-a3dd-f3173d670823",
   "metadata": {},
   "outputs": [],
   "source": [
    "#slice arr1 from index 1-5\n",
    "print(arr1[1:5])            #include the start index but exclude the end index"
   ]
  },
  {
   "cell_type": "code",
   "execution_count": null,
   "id": "f2345288-6174-4916-b4fa-947b35e501d0",
   "metadata": {},
   "outputs": [],
   "source": [
    "print(arr1[3:])       #slice from index 3 to end of the array"
   ]
  },
  {
   "cell_type": "code",
   "execution_count": null,
   "id": "eb803be4-bd0c-438c-9c54-b7d7439fda3e",
   "metadata": {},
   "outputs": [],
   "source": [
    "print(arr1[:3])       #slice from beginning to index 3"
   ]
  },
  {
   "cell_type": "code",
   "execution_count": null,
   "id": "7d06f2be-40a8-4388-ac4b-59b760b59789",
   "metadata": {},
   "outputs": [],
   "source": [
    "# Negative slicing\n",
    "arr1[-4:-1]"
   ]
  },
  {
   "cell_type": "code",
   "execution_count": null,
   "id": "719a0ea0-b01d-42d4-bbde-26a52725d918",
   "metadata": {},
   "outputs": [],
   "source": [
    "arr2 = np.arange(10)\n",
    "arr2"
   ]
  },
  {
   "cell_type": "code",
   "execution_count": null,
   "id": "8d9eba03-088e-4306-9ea9-ea3bb9abb94a",
   "metadata": {},
   "outputs": [],
   "source": [
    "#Step\n",
    "arr2[1::2]"
   ]
  },
  {
   "cell_type": "code",
   "execution_count": null,
   "id": "04f80fa9-c200-4f19-9a6f-fb90d1b542db",
   "metadata": {},
   "outputs": [],
   "source": [
    "arr2[0:6:2]"
   ]
  },
  {
   "cell_type": "markdown",
   "id": "fe701e28-61a0-4736-81b0-41850162f276",
   "metadata": {},
   "source": [
    "## Indexing and Slicing of 2-D Array"
   ]
  },
  {
   "cell_type": "code",
   "execution_count": null,
   "id": "38043e8a-c75c-452e-9019-8cf63146aca3",
   "metadata": {},
   "outputs": [],
   "source": [
    "matrix = np.array([[5,10,15],[20,25,30],[35,40,45],[50,55,60]])\n",
    "matrix"
   ]
  },
  {
   "cell_type": "code",
   "execution_count": null,
   "id": "042355eb-fbf2-4154-a7b3-36e10369d0ce",
   "metadata": {},
   "outputs": [],
   "source": [
    "print(matrix[1,2])"
   ]
  },
  {
   "cell_type": "code",
   "execution_count": null,
   "id": "6e5ca537-b9de-40e6-a62a-7be639d9041c",
   "metadata": {},
   "outputs": [],
   "source": [
    "print(matrix[2,1])"
   ]
  },
  {
   "cell_type": "markdown",
   "id": "1c26ceb1-6f95-442e-a47c-f6b000fcfa79",
   "metadata": {},
   "source": [
    "### Slicing 2-D array"
   ]
  },
  {
   "cell_type": "code",
   "execution_count": null,
   "id": "de9bfc14-1570-418e-ad73-2edafb170829",
   "metadata": {},
   "outputs": [],
   "source": [
    "# Syntax\n",
    "# nameofarray[start_row:end_row, start_col:end_col]"
   ]
  },
  {
   "cell_type": "code",
   "execution_count": null,
   "id": "3f4108ca-92e1-4f6f-99c6-a70277c18d5d",
   "metadata": {},
   "outputs": [],
   "source": [
    "matrix[1:3]"
   ]
  },
  {
   "cell_type": "code",
   "execution_count": null,
   "id": "411c44b1-08f6-43c3-8ac9-fce873198ff9",
   "metadata": {},
   "outputs": [],
   "source": [
    "#extract  [5,10]\n",
    "#         [20,25]"
   ]
  },
  {
   "cell_type": "code",
   "execution_count": null,
   "id": "0ec92957-6cb5-4e8f-b8c5-6e8e94dd0260",
   "metadata": {},
   "outputs": [],
   "source": [
    "matrix[:2,:2]"
   ]
  },
  {
   "cell_type": "code",
   "execution_count": null,
   "id": "0cf8e5c5-f7a3-4fe9-ab03-868e39e9db4f",
   "metadata": {},
   "outputs": [],
   "source": [
    "#extract  [25,30]\n",
    "#         [40,45]"
   ]
  },
  {
   "cell_type": "code",
   "execution_count": null,
   "id": "b43c2a78-19e2-451c-a9b4-ab16e9756bd3",
   "metadata": {},
   "outputs": [],
   "source": [
    "matrix[1:,1:]"
   ]
  }
 ],
 "metadata": {
  "kernelspec": {
   "display_name": "Python 3 (ipykernel)",
   "language": "python",
   "name": "python3"
  },
  "language_info": {
   "codemirror_mode": {
    "name": "ipython",
    "version": 3
   },
   "file_extension": ".py",
   "mimetype": "text/x-python",
   "name": "python",
   "nbconvert_exporter": "python",
   "pygments_lexer": "ipython3",
   "version": "3.10.0"
  }
 },
 "nbformat": 4,
 "nbformat_minor": 5
}
