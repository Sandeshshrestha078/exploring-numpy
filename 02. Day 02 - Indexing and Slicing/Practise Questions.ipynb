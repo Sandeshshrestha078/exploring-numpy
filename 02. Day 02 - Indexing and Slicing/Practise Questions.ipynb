{
 "cells": [
  {
   "cell_type": "markdown",
   "id": "4dedfbfa-81e0-4d3e-a973-5e901fe265c8",
   "metadata": {},
   "source": [
    "## 1. Create a 2D array that resembles the matrix below and find its shape\n",
    "[[11 12 13 14]\n",
    "[15 16 17 18]]"
   ]
  },
  {
   "cell_type": "code",
   "execution_count": 1,
   "id": "bf78fa8a-0633-46f5-96c6-3ba49b27d46b",
   "metadata": {},
   "outputs": [],
   "source": [
    "import numpy as np"
   ]
  },
  {
   "cell_type": "code",
   "execution_count": 2,
   "id": "ad082856-5f90-42d1-be10-c2b3d5b9879e",
   "metadata": {},
   "outputs": [
    {
     "name": "stdout",
     "output_type": "stream",
     "text": [
      "[[11 12 13 14]\n",
      " [15 16 17 18]]\n",
      "The shape of thr matrix is : (2, 4)\n"
     ]
    }
   ],
   "source": [
    "l1= np.array([[11,12,13,14],[15,16,17,18]])\n",
    "print(l1)\n",
    "print('The shape of thr matrix is :',l1.shape)"
   ]
  },
  {
   "cell_type": "markdown",
   "id": "2fcda2fc-6f6b-4b64-a996-e73b51bcf741",
   "metadata": {},
   "source": [
    "## 2.Create an array of ones that has 3 rows and 4 columns."
   ]
  },
  {
   "cell_type": "code",
   "execution_count": 3,
   "id": "9c5a3571-5c2a-450a-92a0-2d6fc676c0cb",
   "metadata": {},
   "outputs": [
    {
     "name": "stdout",
     "output_type": "stream",
     "text": [
      "[[1 1 1 1]\n",
      " [1 1 1 1]\n",
      " [1 1 1 1]]\n"
     ]
    }
   ],
   "source": [
    "l2 =np.ones((3,4),dtype= int)\n",
    "print(l2)"
   ]
  },
  {
   "cell_type": "markdown",
   "id": "08375942-3b1a-4c90-ae1f-e97d7c932f31",
   "metadata": {},
   "source": [
    "## 3.Create an array containing integers 4 to 13 inclusive"
   ]
  },
  {
   "cell_type": "code",
   "execution_count": 4,
   "id": "014e2b43-bb21-4d4b-b55d-1084e9845ee0",
   "metadata": {},
   "outputs": [
    {
     "name": "stdout",
     "output_type": "stream",
     "text": [
      "[ 4  5  6  7  8  9 10 11 12 13]\n"
     ]
    }
   ],
   "source": [
    "l3= np.arange(4,14)\n",
    "print(l3)"
   ]
  },
  {
   "cell_type": "markdown",
   "id": "542b8ecb-8911-4e69-9d0f-d8e245c7d15d",
   "metadata": {},
   "source": [
    "## 4.Create a 3 by 3 array with random integers in [10, 20]. "
   ]
  },
  {
   "cell_type": "code",
   "execution_count": 5,
   "id": "20116094-e7e6-4c6d-b8f3-40ff87420455",
   "metadata": {},
   "outputs": [
    {
     "name": "stdout",
     "output_type": "stream",
     "text": [
      "[[12 10 18]\n",
      " [17 16 18]\n",
      " [15 19 19]]\n"
     ]
    }
   ],
   "source": [
    "l4 = np.random.randint(10,20, size=(3,3))\n",
    "print(l4)"
   ]
  },
  {
   "cell_type": "markdown",
   "id": "7b89ab8c-1f17-48fa-ba63-09f8815afdc8",
   "metadata": {},
   "source": [
    "## 5.Create an array that contains [0,1,2,3,4,5,6,7,8,9,10,11,12,13,14,15,16,17,18,19,20] and reverse the order."
   ]
  },
  {
   "cell_type": "code",
   "execution_count": 6,
   "id": "dbf9fc16-e8c4-4ae9-ab96-4bbeefc0e655",
   "metadata": {},
   "outputs": [
    {
     "name": "stdout",
     "output_type": "stream",
     "text": [
      "[ 0  1  2  3  4  5  6  7  8  9 10 11 12 13 14 15 16 17 18 19 20]\n",
      "[20 19 18 17 16 15 14 13 12 11 10  9  8  7  6  5  4  3  2  1  0]\n"
     ]
    }
   ],
   "source": [
    "l5= np.arange(21)\n",
    "print(l5)\n",
    "print(l5[::-1])"
   ]
  },
  {
   "cell_type": "markdown",
   "id": "6e6db17d-41cc-4880-ab88-b29f347de92e",
   "metadata": {},
   "source": [
    "## 6.Change all elements in 1st and second row to 0\n",
    " [[11,12,13], [14,15,16], [17,18,19]]"
   ]
  },
  {
   "cell_type": "code",
   "execution_count": 7,
   "id": "0f562cb7-be4d-45de-a03d-0ca803e1bbe2",
   "metadata": {},
   "outputs": [
    {
     "name": "stdout",
     "output_type": "stream",
     "text": [
      "[[11 12 13]\n",
      " [14 15 16]\n",
      " [17 18 19]]\n"
     ]
    }
   ],
   "source": [
    "l6 = np.array([[11,12,13], [14,15,16], [17,18,19]])\n",
    "print(l6)"
   ]
  },
  {
   "cell_type": "code",
   "execution_count": 8,
   "id": "909ec382-c46c-42c3-b8c8-aba952aef3ca",
   "metadata": {},
   "outputs": [
    {
     "name": "stdout",
     "output_type": "stream",
     "text": [
      "[[ 0  0  0]\n",
      " [ 0  0  0]\n",
      " [17 18 19]]\n"
     ]
    }
   ],
   "source": [
    "l6[:2,:]=0\n",
    "print(l6)"
   ]
  }
 ],
 "metadata": {
  "kernelspec": {
   "display_name": "Python 3 (ipykernel)",
   "language": "python",
   "name": "python3"
  },
  "language_info": {
   "codemirror_mode": {
    "name": "ipython",
    "version": 3
   },
   "file_extension": ".py",
   "mimetype": "text/x-python",
   "name": "python",
   "nbconvert_exporter": "python",
   "pygments_lexer": "ipython3",
   "version": "3.10.0"
  }
 },
 "nbformat": 4,
 "nbformat_minor": 5
}
