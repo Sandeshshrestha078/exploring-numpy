{
 "cells": [
  {
   "cell_type": "code",
   "execution_count": 1,
   "id": "1835e7bd-61f4-4897-aa2b-a8400d5c8da6",
   "metadata": {},
   "outputs": [],
   "source": [
    "# copy is a new array where view is the view of the original array.\n",
    "# Any changes made to the copy will not affect original array and vice versa.\n",
    "# Any changes made to the view will affect the original array and vice versa."
   ]
  },
  {
   "cell_type": "code",
   "execution_count": 2,
   "id": "14b4208d-2d62-4dc0-bb86-141f5c79fc1b",
   "metadata": {},
   "outputs": [],
   "source": [
    "import numpy as np"
   ]
  },
  {
   "cell_type": "markdown",
   "id": "6396ca76-b684-4db7-b006-12412c87223a",
   "metadata": {},
   "source": [
    "## Copy"
   ]
  },
  {
   "cell_type": "code",
   "execution_count": 3,
   "id": "f1b3effc-2848-424a-a2e7-65968ad80b4f",
   "metadata": {},
   "outputs": [
    {
     "data": {
      "text/plain": [
       "array([1, 2, 3, 4, 5])"
      ]
     },
     "execution_count": 3,
     "metadata": {},
     "output_type": "execute_result"
    }
   ],
   "source": [
    "arr = np.arange(1,6)\n",
    "arr"
   ]
  },
  {
   "cell_type": "code",
   "execution_count": 4,
   "id": "bd51b0a5-0d81-488b-9bec-2232441581a0",
   "metadata": {},
   "outputs": [],
   "source": [
    "# making a copy of this array and change its values to see the result"
   ]
  },
  {
   "cell_type": "code",
   "execution_count": 5,
   "id": "d7594be0-7c96-4e71-b955-73a9111508f7",
   "metadata": {},
   "outputs": [
    {
     "name": "stdout",
     "output_type": "stream",
     "text": [
      "[1 2 3 4 5]\n"
     ]
    }
   ],
   "source": [
    "a = arr.copy()\n",
    "print(a)"
   ]
  },
  {
   "cell_type": "code",
   "execution_count": 6,
   "id": "fa379277-2305-4367-bef7-6311b3e68a57",
   "metadata": {},
   "outputs": [
    {
     "name": "stdout",
     "output_type": "stream",
     "text": [
      "[0 0 0 4 5]\n",
      "[1 2 3 4 5]\n"
     ]
    }
   ],
   "source": [
    "a[:3]=0\n",
    "print(a)\n",
    "print(arr)"
   ]
  },
  {
   "cell_type": "code",
   "execution_count": 7,
   "id": "4ef1ad0f-2dbd-48dc-8dad-74d175d249a6",
   "metadata": {},
   "outputs": [],
   "source": [
    "# here, changes is made in the copy array but the original array is not affected."
   ]
  },
  {
   "cell_type": "code",
   "execution_count": 8,
   "id": "7668532b-4df7-425c-8db1-a262e778860d",
   "metadata": {},
   "outputs": [],
   "source": [
    "# changing the original array and displaying both arrays"
   ]
  },
  {
   "cell_type": "code",
   "execution_count": 9,
   "id": "24955a8c-b3d9-4da2-bed8-8ae37d85fdfa",
   "metadata": {},
   "outputs": [
    {
     "name": "stdout",
     "output_type": "stream",
     "text": [
      "[0 0 0 4 5]\n",
      "[ 1  2  3  4 50]\n"
     ]
    }
   ],
   "source": [
    "arr[-1] = 50\n",
    "print(a)\n",
    "print(arr)"
   ]
  },
  {
   "cell_type": "code",
   "execution_count": 10,
   "id": "feb06857-9894-4020-bbdb-6c7501896389",
   "metadata": {},
   "outputs": [],
   "source": [
    "# here we can see change is made in the original array but the copy of the array is not affected."
   ]
  },
  {
   "cell_type": "markdown",
   "id": "792893eb-df9e-4b47-aaa0-2f52564881da",
   "metadata": {},
   "source": [
    "## View"
   ]
  },
  {
   "cell_type": "code",
   "execution_count": 11,
   "id": "60f342aa-59f7-43bb-ab92-42ff04f12373",
   "metadata": {},
   "outputs": [],
   "source": [
    "# making the view of array and change its value to see the result "
   ]
  },
  {
   "cell_type": "code",
   "execution_count": 12,
   "id": "36f4eb07-0482-4f36-8250-451f350054bb",
   "metadata": {},
   "outputs": [
    {
     "data": {
      "text/plain": [
       "array([50, 60, 70, 80, 90])"
      ]
     },
     "execution_count": 12,
     "metadata": {},
     "output_type": "execute_result"
    }
   ],
   "source": [
    "arr2 = np.arange(50,100,10)\n",
    "arr2"
   ]
  },
  {
   "cell_type": "code",
   "execution_count": 13,
   "id": "1346b7b3-90ff-4cd6-a80d-1902e0866dfd",
   "metadata": {},
   "outputs": [
    {
     "name": "stdout",
     "output_type": "stream",
     "text": [
      "[100  60  70  80  90]\n",
      "[100  60  70  80  90]\n"
     ]
    }
   ],
   "source": [
    "v = arr2.view()\n",
    "v[0]=100\n",
    "print(arr2)\n",
    "print(v)"
   ]
  },
  {
   "cell_type": "code",
   "execution_count": 14,
   "id": "19de3623-6fd1-4d5a-b800-6f73d5098bf5",
   "metadata": {},
   "outputs": [],
   "source": [
    "# here, change is made in the view of the array but original array is also affected"
   ]
  },
  {
   "cell_type": "code",
   "execution_count": 15,
   "id": "5a299e81-d78c-4eef-96c8-53ad1583cf92",
   "metadata": {},
   "outputs": [],
   "source": [
    "# making a view , changing the orignal array, and displaying both arrays"
   ]
  },
  {
   "cell_type": "code",
   "execution_count": 16,
   "id": "7a98b71c-f87c-4ab4-b188-5b84f57e0048",
   "metadata": {},
   "outputs": [
    {
     "name": "stdout",
     "output_type": "stream",
     "text": [
      "[5 0 0 0 0]\n",
      "[5 0 0 0 0]\n"
     ]
    }
   ],
   "source": [
    "arr3 = np.array([5,10,15,20,15])\n",
    "c = arr3.view()\n",
    "arr3[1:] = 0\n",
    "\n",
    "print(arr3)\n",
    "print(c)"
   ]
  },
  {
   "cell_type": "code",
   "execution_count": 17,
   "id": "fb9a7f5f-305a-4e3e-bbd7-ed91557c6afd",
   "metadata": {},
   "outputs": [],
   "source": [
    "# here we can see any changes made to the original array will also affect the view of that array"
   ]
  }
 ],
 "metadata": {
  "kernelspec": {
   "display_name": "Python 3 (ipykernel)",
   "language": "python",
   "name": "python3"
  },
  "language_info": {
   "codemirror_mode": {
    "name": "ipython",
    "version": 3
   },
   "file_extension": ".py",
   "mimetype": "text/x-python",
   "name": "python",
   "nbconvert_exporter": "python",
   "pygments_lexer": "ipython3",
   "version": "3.10.0"
  }
 },
 "nbformat": 4,
 "nbformat_minor": 5
}
