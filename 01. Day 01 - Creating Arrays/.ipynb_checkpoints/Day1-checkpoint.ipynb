{
 "cells": [
  {
   "cell_type": "code",
   "execution_count": 1,
   "id": "db7f4c95-7c95-460a-bcf0-4344dff59cc8",
   "metadata": {},
   "outputs": [],
   "source": [
    "import numpy as np"
   ]
  },
  {
   "cell_type": "markdown",
   "id": "c121a3c7-9780-4edd-acf7-c5315a4c5c13",
   "metadata": {},
   "source": [
    "## Creating Arrays using lists"
   ]
  },
  {
   "cell_type": "code",
   "execution_count": 2,
   "id": "8701409d-198c-4c47-b9f1-2f9865959543",
   "metadata": {},
   "outputs": [],
   "source": [
    "# np.array(list)"
   ]
  },
  {
   "cell_type": "code",
   "execution_count": 3,
   "id": "9851b00d-1d38-409f-9221-c703d04c624e",
   "metadata": {},
   "outputs": [
    {
     "name": "stdout",
     "output_type": "stream",
     "text": [
      "1-D array\n"
     ]
    },
    {
     "data": {
      "text/plain": [
       "array([2, 3, 4, 5])"
      ]
     },
     "execution_count": 3,
     "metadata": {},
     "output_type": "execute_result"
    }
   ],
   "source": [
    "print('1-D array')\n",
    "lst = [2,3,4,5]\n",
    "arr = np.array(lst)\n",
    "arr"
   ]
  },
  {
   "cell_type": "code",
   "execution_count": 4,
   "id": "b891f583-6abd-4fcf-8141-ce04ac036b54",
   "metadata": {},
   "outputs": [
    {
     "data": {
      "text/plain": [
       "numpy.ndarray"
      ]
     },
     "execution_count": 4,
     "metadata": {},
     "output_type": "execute_result"
    }
   ],
   "source": [
    "type(arr)"
   ]
  },
  {
   "cell_type": "code",
   "execution_count": 5,
   "id": "23a38008-0316-4716-97ca-58649733ee20",
   "metadata": {},
   "outputs": [
    {
     "name": "stdout",
     "output_type": "stream",
     "text": [
      "2-D array\n"
     ]
    },
    {
     "data": {
      "text/plain": [
       "array([[1, 2, 3, 4, 5],\n",
       "       [6, 7, 8, 9, 1],\n",
       "       [3, 4, 5, 6, 7]])"
      ]
     },
     "execution_count": 5,
     "metadata": {},
     "output_type": "execute_result"
    }
   ],
   "source": [
    "print('2-D array')\n",
    "lst1 = [1,2,3,4,5]\n",
    "lst2 = [6,7,8,9,1]\n",
    "lst3 = [3,4,5,6,7]\n",
    "arr1 = np.array([lst1,lst2,lst3])\n",
    "arr1"
   ]
  },
  {
   "cell_type": "code",
   "execution_count": 6,
   "id": "7130cde5-4fb3-4ff8-9dde-077271004b59",
   "metadata": {},
   "outputs": [
    {
     "data": {
      "text/plain": [
       "array([['apple', 'banana'],\n",
       "       ['mango', 'orange']], dtype='<U6')"
      ]
     },
     "execution_count": 6,
     "metadata": {},
     "output_type": "execute_result"
    }
   ],
   "source": [
    "fruit =np.array([['apple','banana'],['mango','orange']])\n",
    "fruit\n"
   ]
  },
  {
   "cell_type": "code",
   "execution_count": 7,
   "id": "8d467875-7302-4d17-8f94-1b2273c6c501",
   "metadata": {},
   "outputs": [
    {
     "name": "stdout",
     "output_type": "stream",
     "text": [
      "int64\n",
      "int64\n",
      "<U6\n"
     ]
    }
   ],
   "source": [
    "#dtype\n",
    "print(arr.dtype)\n",
    "print(arr1.dtype)\n",
    "print(fruit.dtype)"
   ]
  },
  {
   "cell_type": "markdown",
   "id": "de0868fb-403e-49e3-b7cd-2f77acbd0ef9",
   "metadata": {},
   "source": [
    "## Creating Array with NumPy Functions (Arrange, zeros,ones,random)"
   ]
  },
  {
   "cell_type": "markdown",
   "id": "8cc71c86-40fb-4659-b9da-b64b359291d8",
   "metadata": {},
   "source": [
    "#### np.arrange(start,stop,step)"
   ]
  },
  {
   "cell_type": "code",
   "execution_count": 8,
   "id": "aaad81ac-9bfa-4c6d-8a79-d8182a27c898",
   "metadata": {},
   "outputs": [
    {
     "name": "stdout",
     "output_type": "stream",
     "text": [
      "[0 1 2 3 4]\n",
      "[1 2 3 4 5 6 7 8 9]\n",
      "[1 3 5 7 9]\n"
     ]
    }
   ],
   "source": [
    "# np.arrange(stop)\n",
    "print(np.arange(5))\n",
    "\n",
    "# np.arrange(start,stop)\n",
    "print(np.arange(1,10))\n",
    "\n",
    "# np.arrange(start,stop,step)\n",
    "print(np.arange(1,10,2))\n"
   ]
  },
  {
   "cell_type": "markdown",
   "id": "94b3e538-74f6-472e-ab0a-99df72e4416d",
   "metadata": {},
   "source": [
    "#### np.zeros((rows,cols), dtype)   It will create array of given no.of rows & columns with all element zero."
   ]
  },
  {
   "cell_type": "code",
   "execution_count": 9,
   "id": "e00f17c4-4f8b-4483-98b0-cd65f50cfd2e",
   "metadata": {},
   "outputs": [
    {
     "name": "stdout",
     "output_type": "stream",
     "text": [
      "[[0 0 0]\n",
      " [0 0 0]\n",
      " [0 0 0]\n",
      " [0 0 0]]\n"
     ]
    }
   ],
   "source": [
    "print(np.zeros((4,3), dtype=int))"
   ]
  },
  {
   "cell_type": "code",
   "execution_count": 10,
   "id": "c77a59cd-1909-4b93-9a9d-5846c9b28aaa",
   "metadata": {},
   "outputs": [
    {
     "name": "stdout",
     "output_type": "stream",
     "text": [
      "[[False False False]\n",
      " [False False False]\n",
      " [False False False]]\n"
     ]
    }
   ],
   "source": [
    "print(np.zeros((3,3),dtype= bool))"
   ]
  },
  {
   "cell_type": "code",
   "execution_count": 11,
   "id": "bbf8f885-61bd-4b9c-8af2-4ffebe48934d",
   "metadata": {},
   "outputs": [
    {
     "name": "stdout",
     "output_type": "stream",
     "text": [
      "[['' '' '']\n",
      " ['' '' '']\n",
      " ['' '' '']\n",
      " ['' '' '']]\n"
     ]
    }
   ],
   "source": [
    "print(np.zeros((4,3), dtype=str))"
   ]
  },
  {
   "cell_type": "markdown",
   "id": "15ddc576-25a0-4b59-8e7c-bac8dab74b67",
   "metadata": {},
   "source": [
    "#### np.ones((rows,cols), dtype)   It will create array of given no.of rows & columns with all element ones."
   ]
  },
  {
   "cell_type": "code",
   "execution_count": 12,
   "id": "205f9389-5b6f-487b-9197-f947bd3b6fb3",
   "metadata": {},
   "outputs": [
    {
     "data": {
      "text/plain": [
       "array([[1., 1.],\n",
       "       [1., 1.]])"
      ]
     },
     "execution_count": 12,
     "metadata": {},
     "output_type": "execute_result"
    }
   ],
   "source": [
    "a = np.ones((2,2))\n",
    "a"
   ]
  },
  {
   "cell_type": "code",
   "execution_count": 13,
   "id": "949ce4d3-ca9b-4475-955c-57cb091d344b",
   "metadata": {},
   "outputs": [
    {
     "data": {
      "text/plain": [
       "array([[1, 1, 1],\n",
       "       [1, 1, 1],\n",
       "       [1, 1, 1]])"
      ]
     },
     "execution_count": 13,
     "metadata": {},
     "output_type": "execute_result"
    }
   ],
   "source": [
    "b = np.ones((3,3), dtype= int)\n",
    "b"
   ]
  },
  {
   "cell_type": "markdown",
   "id": "bc89f848-629b-44c1-8777-f86976b0cbd5",
   "metadata": {},
   "source": [
    "#### np.random.randint(low, high, size)"
   ]
  },
  {
   "cell_type": "code",
   "execution_count": 14,
   "id": "1d9407d4-f31c-4e96-bd11-680a88420ca7",
   "metadata": {},
   "outputs": [
    {
     "name": "stdout",
     "output_type": "stream",
     "text": [
      "5\n"
     ]
    }
   ],
   "source": [
    "random_int = np.random.randint(0,10)\n",
    "print(random_int)"
   ]
  },
  {
   "cell_type": "code",
   "execution_count": 15,
   "id": "d8ccc30e-9509-49e9-a53f-830283acba36",
   "metadata": {},
   "outputs": [
    {
     "name": "stdout",
     "output_type": "stream",
     "text": [
      "[8 0 5 0 9]\n"
     ]
    }
   ],
   "source": [
    "# Generating 1D array of 5 random integer\n",
    "random_arr = np.random.randint(0,10, size=5)\n",
    "print(random_arr)"
   ]
  },
  {
   "cell_type": "code",
   "execution_count": 16,
   "id": "d2b4e1e0-3576-48e7-b41c-397d66d79b21",
   "metadata": {},
   "outputs": [
    {
     "name": "stdout",
     "output_type": "stream",
     "text": [
      "[[1 7 5]\n",
      " [6 3 5]\n",
      " [1 7 2]]\n"
     ]
    }
   ],
   "source": [
    "# Generating 2D array \n",
    "random_matrix = np.random.randint(0,10, size=(3,3))\n",
    "print(random_matrix)"
   ]
  }
 ],
 "metadata": {
  "kernelspec": {
   "display_name": "Python 3 (ipykernel)",
   "language": "python",
   "name": "python3"
  },
  "language_info": {
   "codemirror_mode": {
    "name": "ipython",
    "version": 3
   },
   "file_extension": ".py",
   "mimetype": "text/x-python",
   "name": "python",
   "nbconvert_exporter": "python",
   "pygments_lexer": "ipython3",
   "version": "3.10.0"
  }
 },
 "nbformat": 4,
 "nbformat_minor": 5
}
