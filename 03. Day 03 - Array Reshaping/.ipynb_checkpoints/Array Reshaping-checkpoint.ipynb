{
 "cells": [
  {
   "cell_type": "code",
   "execution_count": 1,
   "id": "dab28eed-b61c-4b6d-9faa-3b4e34f9059c",
   "metadata": {},
   "outputs": [],
   "source": [
    "#By reshaping we can add or remove dimensions or change number of elements in each dimension.\n",
    "# array.reshape(row,column)"
   ]
  },
  {
   "cell_type": "markdown",
   "id": "41ba3e68-a6d4-4781-89d5-f14f6e39da15",
   "metadata": {},
   "source": [
    "## Reshaping from 1-D to 2-D"
   ]
  },
  {
   "cell_type": "code",
   "execution_count": 2,
   "id": "158ce76c-3034-48b1-841c-6e48cca4ef38",
   "metadata": {},
   "outputs": [],
   "source": [
    "import numpy as np"
   ]
  },
  {
   "cell_type": "code",
   "execution_count": 3,
   "id": "b22ad39a-4eb3-4f47-9b1a-2cf0e8845151",
   "metadata": {},
   "outputs": [
    {
     "name": "stdout",
     "output_type": "stream",
     "text": [
      "[ 1  2  3  4  5  6  7  8  9 10 11 12 13 14 15 16 17 18 19 20]\n"
     ]
    },
    {
     "data": {
      "text/plain": [
       "(20,)"
      ]
     },
     "execution_count": 3,
     "metadata": {},
     "output_type": "execute_result"
    }
   ],
   "source": [
    "my_arr = np.arange(1,21)\n",
    "print(my_arr)\n",
    "my_arr.shape"
   ]
  },
  {
   "cell_type": "code",
   "execution_count": 4,
   "id": "4536e22c-5294-46c9-aa36-9070521f2971",
   "metadata": {},
   "outputs": [
    {
     "data": {
      "text/plain": [
       "array([[ 1,  2,  3,  4,  5],\n",
       "       [ 6,  7,  8,  9, 10],\n",
       "       [11, 12, 13, 14, 15],\n",
       "       [16, 17, 18, 19, 20]])"
      ]
     },
     "execution_count": 4,
     "metadata": {},
     "output_type": "execute_result"
    }
   ],
   "source": [
    "my_arr.reshape(4,5)        #multiplication of row and col should be equal to no.of elements in the dimension"
   ]
  },
  {
   "cell_type": "markdown",
   "id": "b05f8759-13fd-4385-8490-be28f57b21d3",
   "metadata": {},
   "source": [
    "\n",
    "## Reshaping from 1-D to 3-D"
   ]
  },
  {
   "cell_type": "code",
   "execution_count": 6,
   "id": "8933d7ef-e171-41d9-a8ff-961671f97640",
   "metadata": {},
   "outputs": [
    {
     "data": {
      "text/plain": [
       "array([[[ 1,  2,  3,  4,  5],\n",
       "        [ 6,  7,  8,  9, 10]],\n",
       "\n",
       "       [[11, 12, 13, 14, 15],\n",
       "        [16, 17, 18, 19, 20]]])"
      ]
     },
     "execution_count": 6,
     "metadata": {},
     "output_type": "execute_result"
    }
   ],
   "source": [
    "my_arr.reshape(2,2,5)"
   ]
  },
  {
   "cell_type": "code",
   "execution_count": null,
   "id": "0ef8dd87-7a6a-432a-b96a-40308b899367",
   "metadata": {},
   "outputs": [],
   "source": []
  }
 ],
 "metadata": {
  "kernelspec": {
   "display_name": "Python 3 (ipykernel)",
   "language": "python",
   "name": "python3"
  },
  "language_info": {
   "codemirror_mode": {
    "name": "ipython",
    "version": 3
   },
   "file_extension": ".py",
   "mimetype": "text/x-python",
   "name": "python",
   "nbconvert_exporter": "python",
   "pygments_lexer": "ipython3",
   "version": "3.10.0"
  }
 },
 "nbformat": 4,
 "nbformat_minor": 5
}
